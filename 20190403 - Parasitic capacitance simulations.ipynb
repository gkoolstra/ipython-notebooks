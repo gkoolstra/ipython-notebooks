{
 "cells": [
  {
   "cell_type": "code",
   "execution_count": 1,
   "metadata": {
    "collapsed": true
   },
   "outputs": [],
   "source": [
    "from matplotlib import pyplot as plt\n",
    "import platform, os, sys, h5py\n",
    "import numpy as np\n",
    "from tabulate import tabulate\n",
    "from pprint import pprint\n",
    "from tqdm import tqdm\n",
    "\n",
    "if 'Windows' in platform.system():\n",
    "    sys.path.append(r'C:\\Users\\Gerwin\\Documents\\Code')\n",
    "    from BEMHelper import interpolate_slow\n",
    "else:\n",
    "    sys.path.append('/mnt/s/_Data/160603 - EonHe M016v5/modules')\n",
    "    sys.path.append(\"/Users/gkoolstra/Documents/Code\")\n",
    "    from BEMHelper import interpolate_slow\n",
    "    %config InlineBackend.figure_format='retina'\n",
    "\n",
    "from Common import common, kfit\n",
    "from TrapAnalysis import trap_analysis, import_data, artificial_anneal as anneal\n",
    "from HeliumSurface.static_surface import *\n",
    "from ipywidgets import interact\n",
    "\n",
    "%matplotlib inline"
   ]
  },
  {
   "cell_type": "code",
   "execution_count": 2,
   "metadata": {
    "collapsed": true
   },
   "outputs": [],
   "source": [
    "def S21_from_ABCD(ABCD, Z0):\n",
    "    A, B, C, D = ABCD[0, 0], ABCD[0, 1], ABCD[1, 0], ABCD[1, 1]\n",
    "    return 2 / (A + B / Z0 + C * Z0 + D)"
   ]
  },
  {
   "cell_type": "markdown",
   "metadata": {},
   "source": [
    "# Transmission line resonator without parasitic capacitance"
   ]
  },
  {
   "cell_type": "code",
   "execution_count": 21,
   "metadata": {},
   "outputs": [
    {
     "name": "stderr",
     "output_type": "stream",
     "text": [
      "C:\\Users\\Gerwin\\AppData\\Local\\Continuum\\Anaconda3\\lib\\site-packages\\ipykernel_launcher.py:10: DeprecationWarning: object of type <class 'float'> cannot be safely interpreted as an integer.\n",
      "  # Remove the CWD from sys.path while we load stuff.\n"
     ]
    },
    {
     "name": "stdout",
     "output_type": "stream",
     "text": [
      "Q_L =  15517.2188769\n"
     ]
    },
    {
     "data": {
      "image/png": "[encoded data removed]",
      "text/plain": [
       "<matplotlib.figure.Figure at 0x1fdeedf4b00>"
      ]
     },
     "metadata": {},
     "output_type": "display_data"
    }
   ],
   "source": [
    "C_in = 3.5E-15 # Input capacitor, in Farad\n",
    "C_out = 3.5E-15 # Output capacitor\n",
    "\n",
    "Z0 = 50.\n",
    "f0 = 6.5E9\n",
    "c = 0.7 * 3.0E8\n",
    "lamb0 = c / f0\n",
    "l = lamb0 / 2.\n",
    "\n",
    "f_d = np.linspace(6.4E9, 6.5E9, 1E5)\n",
    "omega_d = 2 * np.pi * f_d\n",
    "\n",
    "S21 = np.zeros(len(f_d), dtype=np.complex128)\n",
    "\n",
    "for n, w_d in enumerate(omega_d): \n",
    "    lamb = 2 * np.pi * c / w_d\n",
    "    beta = 2 * np.pi / lamb\n",
    "\n",
    "    ABCD_C_in = np.array([[1, 1 / (1j * w_d * C_in)], \n",
    "                          [0, 1]])\n",
    "    ABCD_C_out = np.array([[1, 1 / (1j * w_d * C_out)], \n",
    "                           [0, 1]])\n",
    "    ABCD_trans = np.array([[np.cos(beta * l), 1j * Z0 * np.sin(beta * l)], \n",
    "                           [1j * np.sin(beta * l) / Z0, np.cos(beta * l)]])\n",
    "\n",
    "    ABCD = np.dot(np.dot(ABCD_C_in, ABCD_trans), ABCD_C_out)\n",
    "    \n",
    "    S21[n] = S21_from_ABCD(ABCD, Z0)\n",
    "\n",
    "fig = plt.figure(figsize=(5., 4.))\n",
    "common.configure_axes(13)\n",
    "plt.plot(f_d / 1e9, 20 * np.log10(np.abs(S21)), '-k')\n",
    "\n",
    "center = f_d[np.argmax(np.abs(S21))]\n",
    "fitspan = 50E6\n",
    "fr, ferr = kfit.fit_lor(f_d, np.abs(S21) ** 2, domain=[center-fitspan/2., center+fitspan/2.], \n",
    "                        parambounds=[(-np.inf, -np.inf, -np.inf, 0), (np.inf, np.inf, np.inf, np.inf)], \n",
    "                        verbose=False)\n",
    "\n",
    "# f_plot = np.linspace(center-fitspan/2., center+fitspan/2., 1E3)\n",
    "# plt.plot(f_plot, 10 * np.log10(kfit.lorfunc(f_plot, *fr)), '-r', lw=2)\n",
    "plt.xlabel(\"Frequency (GHz)\")\n",
    "plt.ylabel(\"$|S_{21}|$ (dB)\")\n",
    "print(\"Q_L = \", fr[2] / (2 * fr[3]))"
   ]
  },
  {
   "cell_type": "markdown",
   "metadata": {},
   "source": [
    "The resonator quality factor matches the following formula quite well: \n",
    "\n",
    "$$Q_L \\approx \\frac{0.8}{(\\omega_0 Z_0 C_\\mathrm{in})^2}$$"
   ]
  },
  {
   "cell_type": "code",
   "execution_count": 22,
   "metadata": {},
   "outputs": [
    {
     "data": {
      "text/plain": [
       "15661.28668786286"
      ]
     },
     "execution_count": 22,
     "metadata": {},
     "output_type": "execute_result"
    }
   ],
   "source": [
    "2 * 1.6 / (2 * np.pi * f0 * Z0 * (C_in + C_out)) ** 2"
   ]
  },
  {
   "cell_type": "markdown",
   "metadata": {},
   "source": [
    "# Transmission line resonator _with_ parasitic capacitance"
   ]
  },
  {
   "cell_type": "code",
   "execution_count": 24,
   "metadata": {},
   "outputs": [
    {
     "name": "stdout",
     "output_type": "stream",
     "text": [
      "Without parasitic capacitance: Q_L =  15517.2188769\n",
      "With parasitic capacitance: Q_L =  12470.7407852\n"
     ]
    },
    {
     "data": {
      "image/png": "[encoded data removed]",
      "text/plain": [
       "<matplotlib.figure.Figure at 0x1fdeedc2390>"
      ]
     },
     "metadata": {},
     "output_type": "display_data"
    }
   ],
   "source": [
    "C_p = 0.5*C_in # Parasitic capacitance from the center pin to the DC electrodes which have Z_L\n",
    "Z_L = 50. # Impedance of the DC bias lines\n",
    "\n",
    "S21_parasitic = np.zeros(len(f_d), dtype=np.complex128)\n",
    "\n",
    "for n, w_d in enumerate(omega_d): \n",
    "    lamb = 2 * np.pi * c / w_d\n",
    "    beta = 2 * np.pi / lamb\n",
    "\n",
    "    ABCD_C_p = np.array([[1, 0], \n",
    "                     [1 / (Z_L + 1 / (1j * w_d * C_p)), 1]])\n",
    "    \n",
    "    ABCD_C_in = np.array([[1, 1 / (1j * w_d * C_in)], \n",
    "                          [0, 1]])\n",
    "    ABCD_C_out = np.array([[1, 1 / (1j * w_d * C_out)], \n",
    "                           [0, 1]])\n",
    "    ABCD_trans = np.array([[np.cos(beta * l), 1j * Z0 * np.sin(beta * l)], \n",
    "                           [1j * np.sin(beta * l) / Z0, np.cos(beta * l)]])\n",
    "\n",
    "    ABCD = np.dot(np.dot(np.dot(np.dot(ABCD_C_in, ABCD_C_p), ABCD_trans), ABCD_C_p), ABCD_C_out)\n",
    "    \n",
    "    S21_parasitic[n] = S21_from_ABCD(ABCD, Z0)\n",
    "\n",
    "fig = plt.figure(figsize=(5., 4.))\n",
    "common.configure_axes(13)\n",
    "plt.plot(f_d, 20 * np.log10(np.abs(S21_parasitic)), '-r')\n",
    "plt.plot(f_d, 20 * np.log10(np.abs(S21)), '-k')\n",
    "\n",
    "\n",
    "center = f_d[np.argmax(np.abs(S21_parasitic))]\n",
    "fitspan = 50E6\n",
    "fr_p, ferr_p = kfit.fit_lor(f_d, np.abs(S21_parasitic) ** 2, domain=[center-fitspan/2., center+fitspan/2.], \n",
    "                        parambounds=[(-np.inf, -np.inf, -np.inf, 0), (np.inf, np.inf, np.inf, np.inf)], \n",
    "                        verbose=False)\n",
    "\n",
    "# f_plot = np.linspace(center-fitspan/2., center+fitspan/2., 1E3)\n",
    "# plt.plot(f_plot, 10 * np.log10(kfit.lorfunc(f_plot, *fr_p)), '-r', lw=2)\n",
    "plt.xlabel(\"Frequency (Hz)\")\n",
    "plt.ylabel(\"$|S_{21}|$ (dB)\")\n",
    "\n",
    "print(\"Without parasitic capacitance: Q_L = \", fr[2] / (2 * fr[3]))\n",
    "print(\"With parasitic capacitance: Q_L = \", fr_p[2] / (2 * fr_p[3]))"
   ]
  },
  {
   "cell_type": "markdown",
   "metadata": {},
   "source": [
    "Can we make an estimate of how the parasitic capacitance affects the $Q$? We can make a guess and guess that it scales in the same way as the coupling $Q$. In that case: \n",
    "$$Q_i \\approx \\frac{1}{(\\omega_0 Z_L C_p )^2}$$"
   ]
  },
  {
   "cell_type": "code",
   "execution_count": 25,
   "metadata": {},
   "outputs": [
    {
     "name": "stdout",
     "output_type": "stream",
     "text": [
      "Predicted Qc =  15661.28668786286\n",
      "Predicted Qi =  62645.14675145144\n",
      "Loaded Q would be QL =  12529.029350290288\n"
     ]
    }
   ],
   "source": [
    "Qc = 2 * 1.6 / (2 * np.pi * f0 * Z0 * (C_in + C_out)) ** 2\n",
    "Qi = 0.8 / (2 * np.pi * f0 * Z_L * C_p) ** 2\n",
    "\n",
    "print(\"Predicted Qc = \", Qc)\n",
    "print(\"Predicted Qi = \", Qi)\n",
    "print(\"Loaded Q would be QL = \", (1 / (1/Qc + 1/Qi)))"
   ]
  },
  {
   "cell_type": "code",
   "execution_count": null,
   "metadata": {
    "collapsed": true
   },
   "outputs": [],
   "source": []
  },
  {
   "cell_type": "markdown",
   "metadata": {},
   "source": [
    "# Transmission line resonator _with_ parasitic capacitance _and_ filter"
   ]
  },
  {
   "cell_type": "code",
   "execution_count": 20,
   "metadata": {},
   "outputs": [
    {
     "name": "stdout",
     "output_type": "stream",
     "text": [
      "Without parasitic capacitance: Q_L =  15517.2188769\n",
      "With parasitic capacitance: Q_L =  7830.19973637\n",
      "With parasitic capacitance and filter: Q_L =  15608.7087396\n"
     ]
    },
    {
     "data": {
      "image/png": "[encoded data removed]",
      "text/plain": [
       "<matplotlib.figure.Figure at 0x1fdf040f390>"
      ]
     },
     "metadata": {},
     "output_type": "display_data"
    }
   ],
   "source": [
    "L_f = 2.5E-9 # Filter inductance in H\n",
    "C_f = 4.0E-12 # Filter capacitance in F\n",
    "\n",
    "S21_filter = np.zeros(len(f_d), dtype=np.complex128)\n",
    "\n",
    "for n, w_d in enumerate(omega_d): \n",
    "    lamb = 2 * np.pi * c / w_d\n",
    "    beta = 2 * np.pi / lamb\n",
    "\n",
    "    ABCD_C_f = np.array([[1, 0], \n",
    "                         [1 / (1 / (1j * w_d * C_f + 1 / (1j * w_d * L_f + Z_L)) + 1 / (1j * w_d * C_p)), 1]])\n",
    "    \n",
    "    ABCD_C_in = np.array([[1, 1 / (1j * w_d * C_in)], \n",
    "                          [0, 1]])\n",
    "    ABCD_C_out = np.array([[1, 1 / (1j * w_d * C_out)], \n",
    "                           [0, 1]])\n",
    "    ABCD_trans = np.array([[np.cos(beta * l), 1j * Z0 * np.sin(beta * l)], \n",
    "                           [1j * np.sin(beta * l) / Z0, np.cos(beta * l)]])\n",
    "\n",
    "    ABCD = np.dot(np.dot(np.dot(np.dot(ABCD_C_in, ABCD_C_f), ABCD_trans), ABCD_C_f), ABCD_C_out)\n",
    "    \n",
    "    S21_filter[n] = S21_from_ABCD(ABCD, Z0)\n",
    "\n",
    "fig = plt.figure(figsize=(1.75, 1.75))\n",
    "common.configure_axes(8)\n",
    "plt.plot(f_d / 1e9, 20 * np.log10(np.abs(S21_filter)), '-', lw=2, color=\"#EF9332\")\n",
    "plt.plot(f_d / 1e9, 20 * np.log10(np.abs(S21_parasitic)), '-', lw=1 , color=\"#49B677\")\n",
    "plt.plot(f_d / 1e9, 20 * np.log10(np.abs(S21)), '-', color=\"#00AEEC\")\n",
    "\n",
    "\n",
    "center = f_d[np.argmax(np.abs(S21_filter))]\n",
    "fitspan = 50E6\n",
    "fr_f, ferr_f = kfit.fit_lor(f_d, np.abs(S21_filter) ** 2, domain=[center-fitspan/2., center+fitspan/2.], \n",
    "                        parambounds=[(-np.inf, -np.inf, -np.inf, 0), (np.inf, np.inf, np.inf, np.inf)], \n",
    "                        verbose=False)\n",
    "\n",
    "# f_plot = np.linspace(center-fitspan/2., center+fitspan/2., 1E3)\n",
    "# plt.plot(f_plot, 10 * np.log10(kfit.lorfunc(f_plot, *fr_p)), '-r', lw=2)\n",
    "plt.xlabel(\"Frequency (GHz)\")\n",
    "plt.ylabel(\"$|S_{21}|$ (dB)\")\n",
    "plt.xlim(6.4, 6.5)\n",
    "plt.ylim(-50, 2)\n",
    "\n",
    "print(\"Without parasitic capacitance: Q_L = \", fr[2] / (2 * fr[3]))\n",
    "print(\"With parasitic capacitance: Q_L = \", fr_p[2] / (2 * fr_p[3]))\n",
    "print(\"With parasitic capacitance and filter: Q_L = \", fr_f[2] / (2 * fr_f[3]))\n",
    "\n",
    "if 0:\n",
    "    fig_dir = r\"S:\\Gerwin\\Thesis\\Figures\"\n",
    "    fig.savefig(os.path.join(fig_dir, \"ParasiticCapacitanceWithFilter.pdf\"), \n",
    "                dpi=300, bbox_inches='tight', pad_inches=0)"
   ]
  },
  {
   "cell_type": "code",
   "execution_count": null,
   "metadata": {
    "collapsed": true
   },
   "outputs": [],
   "source": []
  }
 ],
 "metadata": {
  "anaconda-cloud": {},
  "kernelspec": {
   "display_name": "Python 3",
   "language": "python",
   "name": "python3"
  },
  "language_info": {
   "codemirror_mode": {
    "name": "ipython",
    "version": 3
   },
   "file_extension": ".py",
   "mimetype": "text/x-python",
   "name": "python",
   "nbconvert_exporter": "python",
   "pygments_lexer": "ipython3",
   "version": "3.6.1"
  }
 },
 "nbformat": 4,
 "nbformat_minor": 1
}
