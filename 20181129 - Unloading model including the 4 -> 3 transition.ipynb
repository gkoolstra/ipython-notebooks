{
 "cells": [
  {
   "cell_type": "code",
   "execution_count": 1,
   "metadata": {
    "collapsed": true
   },
   "outputs": [],
   "source": [
    "import os, time, h5py, platform, json, sys, matplotlib\n",
    "if platform.system() == 'Linux':\n",
    "    import matplotlib\n",
    "    matplotlib.use('Agg')\n",
    "sys.path.append(\"/Users/gkoolstra/Documents/Code\")\n",
    "sys.path.append(r\"C:\\Users\\Gerwin\\Documents\\Code\")\n",
    "from matplotlib import pyplot as plt\n",
    "from shutil import copyfile\n",
    "import numpy as np\n",
    "from tqdm import tqdm, trange\n",
    "from scipy.optimize import minimize\n",
    "from scipy.signal import savgol_filter\n",
    "from termcolor import cprint\n",
    "from glob import glob\n",
    "from Common import common, kfit\n",
    "import matplotlib.gridspec as gridspec\n",
    "from TrapAnalysis import trap_analysis, artificial_anneal as anneal\n",
    "%matplotlib inline\n",
    "%config InlineBackend.figure_format='retina'\n",
    "\n",
    "try:\n",
    "    sys.path.append(r\"S:\\_Data\\170422 - EonHe M018V6 with L3 etch\\experiment\")\n",
    "    from data_cache import dataCacheProxy\n",
    "except:\n",
    "    pass"
   ]
  },
  {
   "cell_type": "markdown",
   "metadata": {},
   "source": [
    "**Relevant references**\n",
    "* Experiment: https://journals.aps.org/prb/pdf/10.1103/PhysRevB.79.045406\n",
    "* Numerics: https://journals.aps.org/pre/abstract/10.1103/PhysRevE.65.046602"
   ]
  },
  {
   "cell_type": "code",
   "execution_count": 18,
   "metadata": {
    "collapsed": false
   },
   "outputs": [],
   "source": [
    "from scipy.constants import electron_mass as m_e, elementary_charge as qe\n",
    "\n",
    "Vtg = np.linspace(0, -0.40, 0.00)\n",
    "Vbar = 21E-3\n",
    "Vtg_1 = -0.305\n",
    "beta = -Vbar/Vtg_1\n",
    "\n",
    "eps0 = 8.85E-12\n",
    "epsHe = 1.056\n",
    "omega0 = 2 * np.pi * 25E9\n",
    "\n",
    "E0_e = (m_e * omega0**2 * qe / (2 * (eps0 * epsHe)**2 * (4 * np.pi)**2)) ** (1 / 3.)\n",
    "\n",
    "Vb = Vbar + beta * Vtg\n",
    "\n",
    "Vtg_2 = Vtg_1 + 0.75 * E0_e / beta\n",
    "Vtg_3 = Vtg_1 + 1.31037 * E0_e / beta\n",
    "Vtg_4 = Vtg_1 + 1.83545 * E0_e / beta"
   ]
  },
  {
   "cell_type": "code",
   "execution_count": 19,
   "metadata": {
    "collapsed": false
   },
   "outputs": [
    {
     "name": "stdout",
     "output_type": "stream",
     "text": [
      "-0.305 -0.24974136511343953 -0.20845432347159704 -0.16976738479661682\n"
     ]
    }
   ],
   "source": [
    "print(Vtg_1, Vtg_2, Vtg_3, Vtg_4)"
   ]
  },
  {
   "cell_type": "markdown",
   "metadata": {},
   "source": [
    "Fit the data to a model with $f_e$ as the only fit parameter. $V_\\mathrm{bar}$ is chosen from the electrostatic simulation."
   ]
  },
  {
   "cell_type": "code",
   "execution_count": 37,
   "metadata": {
    "collapsed": true
   },
   "outputs": [],
   "source": [
    "measured_jump_points = np.array([-0.305, -0.246, -0.2024, -0.1683]) # 1, 2, 3, 4\n",
    "\n",
    "def fitfunc(x, *p):\n",
    "    fe, = p\n",
    "    \n",
    "    omegae = 2 * np.pi * fe\n",
    "    E0_e = (m_e * omegae**2 * qe / (2 * (eps0 * epsHe)**2 * (4 * np.pi)**2)) ** (1 / 3.)\n",
    "    Vtg = np.linspace(0, -0.40, 0.00)\n",
    "    Vbar = 22E-3\n",
    "    Vtg_1 = -0.305\n",
    "    beta = -Vbar/Vtg_1\n",
    "    \n",
    "    Vtg_2 = Vtg_1 + 0.75 * E0_e / beta\n",
    "    Vtg_3 = Vtg_1 + 1.31037 * E0_e / beta\n",
    "    Vtg_4 = Vtg_1 + 1.83545 * E0_e / beta\n",
    "    \n",
    "    return np.array([Vtg_1, Vtg_2, Vtg_3, Vtg_4])"
   ]
  },
  {
   "cell_type": "markdown",
   "metadata": {},
   "source": [
    "The fit result is the frequency of the trap that best matches the four unloading voltages. The experimental data points are given in `measured_jump_points`"
   ]
  },
  {
   "cell_type": "code",
   "execution_count": 39,
   "metadata": {
    "collapsed": false
   },
   "outputs": [
    {
     "data": {
      "text/plain": [
       "array([  2.81150998e+10])"
      ]
     },
     "execution_count": 39,
     "metadata": {},
     "output_type": "execute_result"
    }
   ],
   "source": [
    "fr, ferr = kfit.fitbetter(None, measured_jump_points, fitfunc=fitfunc, fitparams=np.array([10E9]))\n",
    "fr"
   ]
  },
  {
   "cell_type": "markdown",
   "metadata": {},
   "source": [
    "We can then obtain the unloading voltages, using the best fit value of $f_e$"
   ]
  },
  {
   "cell_type": "code",
   "execution_count": 40,
   "metadata": {
    "collapsed": false
   },
   "outputs": [
    {
     "data": {
      "text/plain": [
       "array([-0.305     , -0.24795777, -0.20533809, -0.16540245])"
      ]
     },
     "execution_count": 40,
     "metadata": {},
     "output_type": "execute_result"
    }
   ],
   "source": [
    "fitfunc(0, *fr)"
   ]
  },
  {
   "cell_type": "code",
   "execution_count": null,
   "metadata": {
    "collapsed": true
   },
   "outputs": [],
   "source": []
  }
 ],
 "metadata": {
  "kernelspec": {
   "display_name": "Python [conda root]",
   "language": "python",
   "name": "conda-root-py"
  },
  "language_info": {
   "codemirror_mode": {
    "name": "ipython",
    "version": 3
   },
   "file_extension": ".py",
   "mimetype": "text/x-python",
   "name": "python",
   "nbconvert_exporter": "python",
   "pygments_lexer": "ipython3",
   "version": "3.5.2"
  }
 },
 "nbformat": 4,
 "nbformat_minor": 1
}
