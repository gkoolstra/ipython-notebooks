{
 "cells": [
  {
   "cell_type": "code",
   "execution_count": 1,
   "metadata": {
    "collapsed": true
   },
   "outputs": [],
   "source": [
    "from matplotlib import pyplot as plt\n",
    "import platform, os, sys, h5py\n",
    "import numpy as np\n",
    "from tabulate import tabulate\n",
    "from pprint import pprint\n",
    "from tqdm import tqdm\n",
    "\n",
    "if 'Windows' in platform.system():\n",
    "    sys.path.append(r'C:\\Users\\Gerwin\\Documents\\Code')\n",
    "    from BEMHelper import interpolate_slow\n",
    "else:\n",
    "    sys.path.append('/mnt/s/_Data/160603 - EonHe M016v5/modules')\n",
    "    sys.path.append(\"/Users/gkoolstra/Documents/Code\")\n",
    "    from BEMHelper import interpolate_slow\n",
    "    %config InlineBackend.figure_format='retina'\n",
    "\n",
    "from Common import common, kfit\n",
    "from TrapAnalysis import trap_analysis, import_data, artificial_anneal as anneal\n",
    "from HeliumSurface.static_surface import *\n",
    "from ipywidgets import interact\n",
    "import glob, re\n",
    "from pprint import pprint\n",
    "from scipy.constants import elementary_charge as qe, electron_mass as me\n",
    "\n",
    "%matplotlib inline"
   ]
  },
  {
   "cell_type": "code",
   "execution_count": 2,
   "metadata": {
    "collapsed": true
   },
   "outputs": [],
   "source": [
    "def load_dsp(df, line_nr=[91, 92, 93, 120]):\n",
    "    \"\"\"\n",
    "    Loads a .dsp file from Maxwell and extracts elements, nodes and the solution at the nodes.\n",
    "    For this code to work, the data must have been saved as a dsp file, with only a single plot in the Fields tab.\n",
    "    :param df: File path of the data file\n",
    "    :return: elements, node, element solution, bounding box\n",
    "    \"\"\"\n",
    "    with open(df, 'r') as myfile:\n",
    "        data = myfile.readlines()\n",
    "\n",
    "    # The important data is stored on line numbers 91-93.\n",
    "    # Line 91: Elements: Each element is composed of 6 nodes. Each sequence of 2,3,3,0,6 is followed by 6 points, which will\n",
    "    # make up a single element. First 2 entries are diagnostic info.\n",
    "    # Line 92: Node coordinates. One node coordinate has 3 entries: x, y, z\n",
    "    # Line 93: Solution on each node. First 3 entries are diagnostic info.\n",
    "\n",
    "    elements = np.array(re.findall(r\"\\((.*?)\\)\", data[line_nr[0]-1])[0].split(', '), dtype=int)\n",
    "    nodes = np.array(re.findall(r\"\\((.*?)\\)\", data[line_nr[1]-1])[0].split(', '), dtype=float)\n",
    "    elem_solution = np.array(re.findall(r\"\\((.*?)\\)\", data[line_nr[2]-1])[0].split(', '), dtype=float)\n",
    "\n",
    "    nodes = nodes.reshape((int(nodes.shape[0]/3), 3))\n",
    "\n",
    "#     line_nr = 90\n",
    "    bounding_box = np.array(re.findall(r\"\\((.*?)\\)\", data[line_nr[3]-1])[0].split(', '), dtype=float)\n",
    "\n",
    "    return elements, nodes, elem_solution[3:], bounding_box"
   ]
  },
  {
   "cell_type": "markdown",
   "metadata": {},
   "source": [
    "## Potential slices"
   ]
  },
  {
   "cell_type": "code",
   "execution_count": 63,
   "metadata": {
    "scrolled": false
   },
   "outputs": [
    {
     "name": "stderr",
     "output_type": "stream",
     "text": [
      "11it [01:05,  5.25s/it]\n",
      "11it [01:03,  5.07s/it]\n"
     ]
    }
   ],
   "source": [
    "# lines = [[121, 122, 123, 120], \n",
    "#          [132, 133, 134, 131], \n",
    "#          [143, 144, 145, 142]]\n",
    "\n",
    "Nheights = 11\n",
    "\n",
    "names = [\"Trapguard\", \"Resonatorguard\"]\n",
    "lines = [[391 + 11*k, 392 + 11*k, 393 + 11*k, 390 + 11*k] for k in range(Nheights)]\n",
    "\n",
    "xeval = np.linspace(-4., 4., 101)\n",
    "yeval = anneal.construct_symmetric_y(-5, 251)\n",
    "\n",
    "output = list()\n",
    "for mm, name in enumerate(names):\n",
    "    datapath = r\"S:\\Gerwin\\Electron on helium\\Maxwell\\M018 Yggdrasil\\M018V6\\With L3 etch - just trap\\Helium Fluctuation Files Smarter Saved\"\n",
    "    df = os.path.join(datapath, \"%s.dsp\" % name)\n",
    "\n",
    "    for nn, linez in tqdm(enumerate(lines)):\n",
    "        elements, nodes, solution, bbox = load_dsp(df, line_nr=linez)\n",
    "#         print(\"h = \",bbox[4], \"um\")\n",
    "        xdata, ydata, Udata = interpolate_slow.prepare_for_interpolation(elements, nodes, solution)\n",
    "        xcenter = np.mean(bbox[0:2])\n",
    "        ycenter = np.mean(bbox[2:4])\n",
    "        xinterp, yinterp, Uinterp = interpolate_slow.evaluate_on_grid(xdata, ydata, Udata, xeval=xeval, yeval=yeval, clim=None, \n",
    "                                                             plot_axes='xy', cmap=plt.cm.viridis, plot_mesh=False, plot_data=0)\n",
    "\n",
    "        # Mirror around the y-axis\n",
    "        ysize, xsize = np.shape(Uinterp)\n",
    "        Uinterp_symmetric = np.zeros((2 * ysize, xsize))\n",
    "        Uinterp_symmetric[:ysize, :] = Uinterp\n",
    "        Uinterp_symmetric[ysize:, :] = Uinterp[::-1, :]\n",
    "\n",
    "        y_symmetric = np.zeros((2 * ysize, xsize))\n",
    "        y_symmetric[:ysize, :] = yinterp\n",
    "        y_symmetric[ysize:, :] = -yinterp[::-1, :]\n",
    "\n",
    "        x_symmetric = np.zeros((2 * ysize, xsize))\n",
    "        x_symmetric[:ysize, :] = xinterp\n",
    "        x_symmetric[ysize:, :] = xinterp\n",
    "\n",
    "        if nn == 0:\n",
    "            output.append({'name' : name, \n",
    "                   'V' : np.zeros((2 * ysize, xsize, Nheights), dtype=np.float64),\n",
    "                   'x' : np.zeros((2 * ysize, xsize, Nheights), dtype=np.float64), \n",
    "                   'y' : np.zeros((2 * ysize, xsize, Nheights), dtype=np.float64), \n",
    "                   'helium_height' : np.zeros(Nheights)})\n",
    "\n",
    "        output[mm]['V'][:, :, nn] = Uinterp_symmetric\n",
    "        output[mm]['x'][:, :, nn] = x_symmetric\n",
    "        output[mm]['y'][:, :, nn] = y_symmetric\n",
    "        output[mm]['helium_height'][nn] = bbox[4]\n",
    "\n",
    "#         plt.figure()\n",
    "#         common.configure_axes(13)\n",
    "#         plt.pcolormesh(x_symmetric, y_symmetric, Uinterp_symmetric)\n",
    "#         plt.title(r\"$h$ = %s $\\mu$m\" % bbox[4])\n"
   ]
  },
  {
   "cell_type": "markdown",
   "metadata": {},
   "source": [
    "## Curvatures"
   ]
  },
  {
   "cell_type": "code",
   "execution_count": 62,
   "metadata": {},
   "outputs": [
    {
     "name": "stdout",
     "output_type": "stream",
     "text": [
      "[-5.    5.   -0.01 -0.01 -5.    5.  ]\n"
     ]
    },
    {
     "data": {
      "image/png": "[encoded data removed]",
      "text/plain": [
       "<matplotlib.figure.Figure at 0x1b637c150f0>"
      ]
     },
     "metadata": {},
     "output_type": "display_data"
    }
   ],
   "source": [
    "name = \"Resonatorguard\"\n",
    "\n",
    "datapath = r\"S:\\Gerwin\\Electron on helium\\Maxwell\\M018 Yggdrasil\\M018V6\\With L3 etch - just trap\\Helium Fluctuation Files Smarter Saved\"\n",
    "df = os.path.join(datapath, \"%s_2D_Curvature_XZ.dsp\" % name)\n",
    "\n",
    "xeval = np.linspace(-4, 4, 100)\n",
    "zeval = np.linspace(0, 2, 100)\n",
    "\n",
    "elements, nodes, solution, bbox = load_dsp(df, line_nr=[92, 93, 94, 91])\n",
    "print(bbox)\n",
    "xdata, ydata, Udata = interpolate_slow.prepare_for_interpolation(elements, nodes, solution)\n",
    "xcenter = np.mean(bbox[0:2])\n",
    "ycenter = np.mean(bbox[2:4])\n",
    "xinterp, yinterp, Uinterp = interpolate_slow.evaluate_on_grid(xdata, ydata, Udata, xeval=xeval, yeval=zeval, clim=None, \n",
    "                                                     plot_axes='xz', cmap=plt.cm.viridis, plot_mesh=0, plot_data=0)\n",
    "\n",
    "\n",
    "\n",
    "plt.figure(figsize=(8.,4.))\n",
    "common.configure_axes(13)\n",
    "plt.pcolormesh(xinterp, yinterp, Uinterp)\n",
    "plt.xlabel(\"$x$ ($\\mu$m)\")\n",
    "plt.ylabel(\"$z$ ($\\mu$m)\")\n",
    "plt.title(name)\n",
    "\n",
    "plt.colorbar()\n",
    "plt.clim(0E11, 5E11)"
   ]
  },
  {
   "cell_type": "code",
   "execution_count": null,
   "metadata": {
    "collapsed": true
   },
   "outputs": [],
   "source": []
  }
 ],
 "metadata": {
  "kernelspec": {
   "display_name": "Python 3",
   "language": "python",
   "name": "python3"
  },
  "language_info": {
   "codemirror_mode": {
    "name": "ipython",
    "version": 3
   },
   "file_extension": ".py",
   "mimetype": "text/x-python",
   "name": "python",
   "nbconvert_exporter": "python",
   "pygments_lexer": "ipython3",
   "version": "3.6.1"
  }
 },
 "nbformat": 4,
 "nbformat_minor": 2
}
